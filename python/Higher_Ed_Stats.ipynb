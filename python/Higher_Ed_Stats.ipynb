{
 "cells": [
  {
   "cell_type": "code",
   "execution_count": 1,
   "metadata": {},
   "outputs": [],
   "source": [
    "import csv"
   ]
  },
  {
   "cell_type": "code",
   "execution_count": null,
   "metadata": {},
   "outputs": [],
   "source": []
  },
  {
   "cell_type": "code",
   "execution_count": 2,
   "metadata": {},
   "outputs": [],
   "source": [
    "with open('usernames.csv') as csvfile:\n",
    "    readCSV = csv.reader(csvfile, delimiter=',')\n",
    "    \n",
    "    users = []\n",
    "    \n",
    "    def usersFunc():\n",
    "        for col in readCSV:\n",
    "            users.append(col)\n",
    "        \n",
    "    usersFunc()"
   ]
  },
  {
   "cell_type": "code",
   "execution_count": null,
   "metadata": {},
   "outputs": [],
   "source": []
  },
  {
   "cell_type": "code",
   "execution_count": null,
   "metadata": {},
   "outputs": [],
   "source": []
  },
  {
   "cell_type": "code",
   "execution_count": null,
   "metadata": {},
   "outputs": [],
   "source": []
  },
  {
   "cell_type": "code",
   "execution_count": 3,
   "metadata": {},
   "outputs": [],
   "source": [
    "from bs4 import BeautifulSoup\n",
    "import requests"
   ]
  },
  {
   "cell_type": "code",
   "execution_count": 4,
   "metadata": {},
   "outputs": [],
   "source": [
    "#https://stackoverflow.com/questions/52225334/webscraping-instagram-follower-count-beautifulsoup"
   ]
  },
  {
   "cell_type": "code",
   "execution_count": 5,
   "metadata": {},
   "outputs": [],
   "source": [
    "def followersFunc():\n",
    "    start_followers = '\"edge_followed_by\":{\"count\":'\n",
    "    end_followers = '},\"followed_by_viewer\"'\n",
    "\n",
    "    followers = (r[r.find(start_followers)+len(start_followers):r.find(end_followers)])\n",
    "\n",
    "    return(followers)"
   ]
  },
  {
   "cell_type": "code",
   "execution_count": 6,
   "metadata": {},
   "outputs": [],
   "source": [
    "def followingFunc():\n",
    "\n",
    "    start_following = '\"edge_follow\":{\"count\":'\n",
    "    end_following = '},\"follows_viewer\"'\n",
    "\n",
    "    following = (r[r.find(start_following)+len(start_following):r.find(end_following)])\n",
    "    return(following)"
   ]
  },
  {
   "cell_type": "code",
   "execution_count": 7,
   "metadata": {},
   "outputs": [],
   "source": [
    "def postsFunc():\n",
    "\n",
    "    start_posts = 'Following, '\n",
    "    end_posts = ' Posts - See '\n",
    "\n",
    "    posts = (r[r.find(start_posts)+len(start_posts):r.find(end_posts)])\n",
    "    return(posts)"
   ]
  },
  {
   "cell_type": "code",
   "execution_count": 8,
   "metadata": {},
   "outputs": [],
   "source": [
    "#https://www.programiz.com/python-programming/methods/string/index\n",
    "\n",
    "def nameFunc():\n",
    "    \n",
    "    soup = BeautifulSoup(r, 'html.parser')\n",
    "    name = soup.title.string[1:soup.title.string.index(\"(\") - 1]\n",
    "    \n",
    "    return(name)"
   ]
  },
  {
   "cell_type": "code",
   "execution_count": 9,
   "metadata": {},
   "outputs": [],
   "source": [
    "#https://stackoverflow.com/questions/11205386/python-beautifulsoup-get-an-attribute-value-based-on-the-name-attribute/11205758\n",
    "\n",
    "def tweetsFunc():\n",
    "    liTweets = soup.find(\"li\", attrs={\"class\":\"ProfileNav-item ProfileNav-item--tweets is-active\"})\n",
    "    tweets = liTweets.find(\"span\", attrs={\"class\":\"ProfileNav-value\"})['data-count']\n",
    "\n",
    "    return(tweets)\n"
   ]
  },
  {
   "cell_type": "code",
   "execution_count": 10,
   "metadata": {},
   "outputs": [],
   "source": [
    "def twitterFollowingFunc():\n",
    "\n",
    "    liFollowing = soup.find(\"li\", attrs={\"class\":\"ProfileNav-item ProfileNav-item--following\"})\n",
    "    twitterFollowing = liFollowing.find(\"span\", attrs={\"class\":\"ProfileNav-value\"})['data-count']\n",
    "\n",
    "    return(twitterFollowing)"
   ]
  },
  {
   "cell_type": "code",
   "execution_count": 11,
   "metadata": {},
   "outputs": [],
   "source": [
    "def twitterFollowersFunc():\n",
    "\n",
    "    liFollowers = soup.find(\"li\", attrs={\"class\":\"ProfileNav-item ProfileNav-item--followers\"})\n",
    "    twitterFollowers = liFollowers.find(\"span\", attrs={\"class\":\"ProfileNav-value\"})['data-count']\n",
    "    return(twitterFollowers)"
   ]
  },
  {
   "cell_type": "code",
   "execution_count": 12,
   "metadata": {},
   "outputs": [],
   "source": [
    "import csv"
   ]
  },
  {
   "cell_type": "code",
   "execution_count": 13,
   "metadata": {},
   "outputs": [],
   "source": [
    "csvfile = open(\"higheredsocialstats.csv\", 'w', newline='', encoding='utf-8')"
   ]
  },
  {
   "cell_type": "code",
   "execution_count": 14,
   "metadata": {},
   "outputs": [
    {
     "data": {
      "text/plain": [
       "111"
      ]
     },
     "execution_count": 14,
     "metadata": {},
     "output_type": "execute_result"
    }
   ],
   "source": [
    "c = csv.writer(csvfile)\n",
    "\n",
    "c.writerow( ['University', 'Instagram Followers', 'Instagram Following', 'Instagram Posts', 'Twitter Followers', 'Twitter Following', 'Tweets'])"
   ]
  },
  {
   "cell_type": "code",
   "execution_count": 15,
   "metadata": {},
   "outputs": [],
   "source": [
    "for user in users:\n",
    "    instaUrl = 'https://www.instagram.com/' + user[0]\n",
    "    r = requests.get(instaUrl).text\n",
    "    name = nameFunc()\n",
    "    instaFollowers = followersFunc()\n",
    "    instaFollowing = followingFunc()\n",
    "    instaPosts = postsFunc()\n",
    "    \n",
    "\n",
    "    \n",
    "    twitterUrl = 'https://twitter.com/' + user[1]\n",
    "    s = requests.get(twitterUrl).text\n",
    "    soup = BeautifulSoup(s,\"html.parser\")\n",
    "    twitterFollowers = twitterFollowersFunc()\n",
    "    twitterFollowing = twitterFollowingFunc()\n",
    "    tweets = tweetsFunc()\n",
    "    \n",
    "    c.writerow( [name, instaFollowers, instaFollowing, instaPosts, twitterFollowers, twitterFollowing, tweets] )"
   ]
  },
  {
   "cell_type": "code",
   "execution_count": 16,
   "metadata": {},
   "outputs": [],
   "source": [
    "csvfile.close()"
   ]
  },
  {
   "cell_type": "code",
   "execution_count": 18,
   "metadata": {},
   "outputs": [],
   "source": [
    "#https://stackoverflow.com/questions/19697846/how-to-convert-csv-file-to-multiline-json\n",
    "\n",
    "import json\n",
    "\n",
    "csvfile = open('higheredsocialstats.csv', 'r')\n",
    "jsonfile = open('higheredsocialstats.json', 'w')\n",
    "\n",
    "fieldnames = (\"university\",\"instagram followers\",\"instagram following\",\"instagram posts\", \"twitter followers\", \"twitter following\", \"tweets\")\n",
    "reader = csv.DictReader( csvfile, fieldnames)\n",
    "for row in reader:\n",
    "    json.dump(row, jsonfile)\n",
    "    jsonfile.write('\\n')"
   ]
  },
  {
   "cell_type": "code",
   "execution_count": null,
   "metadata": {},
   "outputs": [],
   "source": []
  }
 ],
 "metadata": {
  "kernelspec": {
   "display_name": "Python 3",
   "language": "python",
   "name": "python3"
  },
  "language_info": {
   "codemirror_mode": {
    "name": "ipython",
    "version": 3
   },
   "file_extension": ".py",
   "mimetype": "text/x-python",
   "name": "python",
   "nbconvert_exporter": "python",
   "pygments_lexer": "ipython3",
   "version": "3.7.3"
  }
 },
 "nbformat": 4,
 "nbformat_minor": 2
}
